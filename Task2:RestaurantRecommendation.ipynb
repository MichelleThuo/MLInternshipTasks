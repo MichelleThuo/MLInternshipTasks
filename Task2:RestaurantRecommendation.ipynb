{
  "nbformat": 4,
  "nbformat_minor": 0,
  "metadata": {
    "colab": {
      "provenance": [],
      "authorship_tag": "ABX9TyMkbO3toZ1ZVgPvQZqJX1v7",
      "include_colab_link": true
    },
    "kernelspec": {
      "name": "python3",
      "display_name": "Python 3"
    },
    "language_info": {
      "name": "python"
    }
  },
  "cells": [
    {
      "cell_type": "markdown",
      "metadata": {
        "id": "view-in-github",
        "colab_type": "text"
      },
      "source": [
        "<a href=\"https://colab.research.google.com/github/MichelleThuo/MLInternshipTasks/blob/main/Task2%3ARestaurantRecommendation.ipynb\" target=\"_parent\"><img src=\"https://colab.research.google.com/assets/colab-badge.svg\" alt=\"Open In Colab\"/></a>"
      ]
    },
    {
      "cell_type": "markdown",
      "source": [
        "# Import Libraries"
      ],
      "metadata": {
        "id": "xvp_vlvhzcIU"
      }
    },
    {
      "cell_type": "code",
      "execution_count": 16,
      "metadata": {
        "id": "CuH5ncdpOrng"
      },
      "outputs": [],
      "source": [
        "import pandas as pd\n",
        "from sklearn.feature_extraction.text import TfidfVectorizer\n",
        "from sklearn.metrics.pairwise import cosine_similarity"
      ]
    },
    {
      "cell_type": "markdown",
      "source": [
        "# Step 1: Load and Preprocess Data"
      ],
      "metadata": {
        "id": "PSkYNytjzeRq"
      }
    },
    {
      "cell_type": "code",
      "source": [
        "# Load the dataset\n",
        "file_path = 'Dataset .csv'\n",
        "df = pd.read_csv(file_path)\n",
        "\n",
        "# Preprocessing the data\n",
        "# Fill missing values (for simplicity, let's drop rows with NaN values)\n",
        "# Drop rows with missing values in key columns to ensure data quality.\n",
        "# This could be improved by using other methods to handle missing data, like filling with default values.\n",
        "df.dropna(subset=['Cuisines', 'Price range', 'Aggregate rating'], inplace=True)\n",
        "\n",
        "# Convert 'Price range' to numeric if not already\n",
        "# Ensuring 'Price range' is numeric helps in consistent processing and analysis.\n",
        "df['Price range'] = df['Price range'].astype(int)\n",
        "\n",
        "# Encode 'Cuisines' using TF-IDF to consider each type of cuisine by capturing the importance of each type of cuisine.\n",
        "# TF-IDF is effective here because it assigns weights based on how frequently each cuisine appears.\n",
        "tfidf = TfidfVectorizer(stop_words='english')\n",
        "df['Cuisines'] = df['Cuisines'].fillna('')  # Fill NaNs with empty strings for the TF-IDF vectorizer\n",
        "cuisine_matrix = tfidf.fit_transform(df['Cuisines'])"
      ],
      "metadata": {
        "id": "28x74zUpyss3"
      },
      "execution_count": 17,
      "outputs": []
    },
    {
      "cell_type": "markdown",
      "source": [
        "# Step 2: Combine Features"
      ],
      "metadata": {
        "id": "Gwh48gYnzjKm"
      }
    },
    {
      "cell_type": "code",
      "source": [
        "# Combine features for similarity calculation\n",
        "# Here, we will consider 'Cuisines' and 'Price range' as the criteria\n",
        "# Combine 'Cuisines' and 'Price range' into a single feature set to use for similarity calculations.\n",
        "# This allows us to consider both cuisine type and price range in our recommendation.\n",
        "df['Price range'] = df['Price range'].astype(str)  # Convert to string for vectorization\n",
        "combined_features = df['Cuisines'] + \" \" + df['Price range']\n",
        "\n",
        "# Reapply TF-IDF vectorization on the combined features\n",
        "combined_tfidf_matrix = tfidf.fit_transform(combined_features)"
      ],
      "metadata": {
        "id": "Mt77UpJsy3-Z"
      },
      "execution_count": 18,
      "outputs": []
    },
    {
      "cell_type": "markdown",
      "source": [
        "# Step 3: Recommendation Function"
      ],
      "metadata": {
        "id": "NmdIZQXLzrB0"
      }
    },
    {
      "cell_type": "code",
      "source": [
        "# Define a function to recommend restaurants based on a sample user preference\n",
        "def recommend_restaurants(user_cuisine_preference, user_price_range, num_recommendations=5):\n",
        "    \"\"\"\n",
        "    Recommend restaurants based on user's cuisine preference and price range.\n",
        "\n",
        "    Parameters:\n",
        "    user_cuisine_preference (str): The user's preferred cuisine (e.g., 'Japanese').\n",
        "    user_price_range (int): The user's preferred price range (e.g., 3).\n",
        "    num_recommendations (int): The number of recommendations to return.\n",
        "\n",
        "    Returns:\n",
        "    DataFrame: A DataFrame containing the recommended restaurants with details.\n",
        "    \"\"\"\n",
        "    # Combine user preferences into a single input for similarity calculation\n",
        "    # Create a new input for the user preference\n",
        "    user_input = user_cuisine_preference + \" \" + str(user_price_range)\n",
        "\n",
        "    # Transform the user input using the trained TF-IDF vectorizer\n",
        "    user_tfidf = tfidf.transform([user_input])\n",
        "\n",
        "    # Compute cosine similarity between user input and the restaurant data\n",
        "    # Cosine similarity measures the angle between vectors, indicating how similar the user input is to each restaurant.\n",
        "    cosine_sim = cosine_similarity(user_tfidf, combined_tfidf_matrix).flatten()\n",
        "\n",
        "    # Get the indices of the top recommendations, sorted by similarity score (highest first)\n",
        "    top_indices = cosine_sim.argsort()[-num_recommendations:][::-1]\n",
        "\n",
        "    # Fetch the top recommended restaurants and their details\n",
        "    recommendations = df.iloc[top_indices][['Restaurant Name', 'Cuisines', 'Price range', 'Aggregate rating', 'City']]\n",
        "\n",
        "    return recommendations"
      ],
      "metadata": {
        "id": "1IlaX5_szJ3T"
      },
      "execution_count": 19,
      "outputs": []
    },
    {
      "cell_type": "markdown",
      "source": [
        "# Step 4: Test the Recommendation System"
      ],
      "metadata": {
        "id": "jgsoNun1zxJn"
      }
    },
    {
      "cell_type": "code",
      "source": [
        "# Example: Test the recommendation system with a user preference\n",
        "user_cuisine = \"Japanese\"\n",
        "user_price_range = 3\n",
        "\n",
        "# Get recommendations and display them\n",
        "recommendations = recommend_restaurants(user_cuisine, user_price_range)\n",
        "print(recommendations)"
      ],
      "metadata": {
        "colab": {
          "base_uri": "https://localhost:8080/"
        },
        "id": "1EBaLL4-zRZv",
        "outputId": "feb654ee-ec54-4f17-d916-96fd9cdac748"
      },
      "execution_count": 20,
      "outputs": [
        {
          "output_type": "stream",
          "name": "stdout",
          "text": [
            "                 Restaurant Name  Cuisines Price range  Aggregate rating  \\\n",
            "5417  Manami Japanese Restaurant  Japanese           3               0.0   \n",
            "1466                     Kuuraku  Japanese           3               3.9   \n",
            "2171                       Tokyo  Japanese           3               3.0   \n",
            "29                      New Koto  Japanese           4               3.7   \n",
            "27                    Sushi Loko  Japanese           3               3.1   \n",
            "\n",
            "           City  \n",
            "5417  New Delhi  \n",
            "1466    Gurgaon  \n",
            "2171    Gurgaon  \n",
            "29    Bras�_lia  \n",
            "27    Bras�_lia  \n"
          ]
        }
      ]
    },
    {
      "cell_type": "markdown",
      "source": [
        "# Explanation of the Code\n",
        "## 1. Data Loading\n",
        "Reads the dataset into a DataFrame and drops rows with missing values in crucial columns like 'Cuisines', 'Price range', and 'Aggregate rating'. This ensures we have complete data for recommendations.\n",
        "\n",
        "## 2. TF-IDF Vectorization\n",
        "Uses TF-IDF to convert text data into numerical features. This helps in capturing the importance of different cuisines.\n",
        "Combining Features: Merges the 'Cuisines' and 'Price range' columns, so the recommendation is based on both factors.\n",
        "\n",
        "## 3. Cosine Similarity\n",
        "Measures how similar the user preferences are to each restaurant, which is key for the recommendation.\n",
        "\n",
        "## 4. Recommendation Function\n",
        "Uses the computed similarity to recommend restaurants that best match user preferences.\n",
        "\n",
        "# Key benefits\n",
        "## 1. Personalized Dining Suggestions\n",
        "Users can input their favorite cuisine (e.g., \"Japanese\") and their budget, allowing the system to suggest restaurants that closely match their preferences.\n",
        "\n",
        "## 2. Time-Saving\n",
        "Instead of manually searching through restaurant listings, users receive tailored recommendations, saving time and effort.\n",
        "\n",
        "## 3. Flexible Application\n",
        "The system can be adapted to include additional features like location, user ratings, or specific dietary needs, making it versatile for different scenarios.\n",
        "\n",
        "This recommendation system could be implemented on restaurant discovery platforms, food delivery apps, or even as part of a website for a restaurant chain, helping users find the perfect dining experience.\n",
        "\n",
        "# Limitations\n",
        "## 1. Handling Missing Values\n",
        "Dropping rows with missing values can result in data loss. Alternative strategies like imputing default values or using more advanced techniques could preserve more data.\n",
        "\n",
        "## 2. Limited Feature Scope\n",
        "The recommendation is based only on 'Cuisines' and 'Price range'. Other factors like location, availability of online delivery, or ratings could be incorporated for better personalization.\n",
        "\n",
        "## 3. Zero Ratings\n",
        "Some restaurants might have zero ratings or missing ratings. These could be excluded from the recommendations or treated as unrated.\n",
        "\n",
        "# Model Evaluation\n",
        "## 1. Manual Inspection\n",
        "The simplest method is to manually review the recommendations to see if they align with user preferences. For example, check if the recommended Japanese restaurants match the desired price range.\n",
        "\n",
        "## 2. User Feedback\n",
        "If possible, collect user feedback on the recommendations to refine the system.\n",
        "\n",
        "## 3. Cosine Similarity Scores\n",
        "Analyze the cosine similarity scores for the recommendations. Higher similarity scores indicate a closer match to user preferences, suggesting better recommendations.\n",
        "\n",
        "## 4. Diversity of Recommendations\n",
        "Evaluate if the system provides diverse options or suggests the same types of restaurants repeatedly."
      ],
      "metadata": {
        "id": "DWUr1IW_Gc4u"
      }
    }
  ]
}